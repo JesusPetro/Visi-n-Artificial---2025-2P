{
 "cells": [
  {
   "cell_type": "markdown",
   "id": "2e5e3cfa",
   "metadata": {},
   "source": [
    "# Linear algebra with Numpy\n",
    "\n",
    "Jesús David Petro Ramos - T00065696\n",
    "Universidad Tecnológica de Bolívar\n",
    "\n",
    "Based on the jupyter notebook by [Vince Knight](https://github.com/drvinceknight/Python-Mathematics-Handbook)\n"
   ]
  }
 ],
 "metadata": {
  "kernelspec": {
   "display_name": "env",
   "language": "python",
   "name": "python3"
  },
  "language_info": {
   "codemirror_mode": {
    "name": "ipython",
    "version": 3
   },
   "file_extension": ".py",
   "mimetype": "text/x-python",
   "name": "python",
   "nbconvert_exporter": "python",
   "pygments_lexer": "ipython3",
   "version": "3.10.9"
  }
 },
 "nbformat": 4,
 "nbformat_minor": 5
}
